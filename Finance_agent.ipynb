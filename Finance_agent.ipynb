{
 "cells": [
  {
   "cell_type": "code",
   "execution_count": 19,
   "metadata": {},
   "outputs": [],
   "source": [
    "#importing libraries\n",
    "from phi.agent import Agent, RunResponse\n",
    "from phi.model.groq import Groq\n",
    "from phi.tools.yfinance import YFinanceTools\n",
    "from phi.tools.duckduckgo import DuckDuckGo\n",
    "from dotenv import load_dotenv\n",
    "import os\n"
   ]
  },
  {
   "cell_type": "code",
   "execution_count": 20,
   "metadata": {},
   "outputs": [],
   "source": [
    "# Load environment variables\n",
    "load_dotenv()\n",
    "groq_api_key = os.getenv(\"GROQ_API_KEY\")\n",
    "# Debugging the API key\n",
    "if not groq_api_key:\n",
    "    raise ValueError(\"GROQ_API_KEY not set or loaded. Check your .env file.\")\n"
   ]
  },
  {
   "cell_type": "code",
   "execution_count": 21,
   "metadata": {},
   "outputs": [
    {
     "name": "stdout",
     "output_type": "stream",
     "text": [
      "\n",
      "Running:\n",
      " - get_analyst_recommendations(symbol=TSLA)\n",
      " - get_analyst_recommendations(symbol=NVDA)\n",
      " - get_stock_fundamentals(symbol=TSLA)\n",
      " - get_stock_fundamentals(symbol=NVDA)\n",
      "\n",
      "### Analyst Recommendations for TESLA and NVIDIA\n",
      "| Symbol | Strong Buy | Buy | Hold | Sell | Strong Sell |\n",
      "| --- | --- | --- | --- | --- | --- |\n",
      "| TSLA | 7 | 13 | 15 | 9 | 3 |\n",
      "| NVDA | 12 | 47 | 4 | 0 | 0 |\n",
      "\n",
      "### Fundamentals for TESLA and NVIDIA\n",
      "| Symbol | Company Name | Sector | Industry | Market Cap | P/E Ratio | P/B Ratio | Dividend Yield | EPS | Beta | 52 Week High | 52 Week Low |\n",
      "| --- | --- | --- | --- | --- | --- | --- | --- | --- | --- | --- | --- |\n",
      "| TSLA | Tesla, Inc. | Consumer Cyclical | Auto Manufacturers | 1,369,090,555,904 | 130.77 | 19.56 | N/A | 3.67 | 2.30 | 488.54 | 138.80 |\n",
      "| NVDA | NVIDIA Corporation | Technology | Semiconductors | 3,372,518,211,584 | 30.96 | 78.96 | 0.00 | 2.53 | 1.66 | 153.13 | 58.59 |\n",
      "\n",
      "### Comparison\n",
      "- **Analyst Recommendations**: NVIDIA has a stronger buy rating with 12 strong buys and 47 buys, while TESLA has 7 strong buys and 13 buys.\n",
      "- **Fundamentals**: \n",
      "  - **Market Cap**: NVIDIA has a higher market capitalization than TESLA.\n",
      "  - **P/E Ratio**: TESLA has a higher price-to-earnings ratio than NVIDIA.\n",
      "  - **P/B Ratio**: NVIDIA has a higher price-to-book ratio than TESLA.\n",
      "  - **Dividend Yield**: NVIDIA has a slight dividend yield, while TESLA has no dividend yield.\n",
      "  - **EPS**: TESLA has a higher earnings per share than NVIDIA.\n",
      "  - **Beta**: TESLA has a higher beta than NVIDIA, indicating higher volatility.\n",
      "  - **52 Week High and Low**: NVIDIA has a lower 52-week high and low compared to TESLA.\n"
     ]
    }
   ],
   "source": [
    "#creating the finance agent\n",
    "finance_agent = Agent(\n",
    "    name = \"Finance Agent\",\n",
    "    model = Groq(\n",
    "        id =\"llama-3.3-70b-versatile\"\n",
    "    ),\n",
    "    tools = [YFinanceTools(stock_price= True, analyst_recommendations= True, stock_fundamentals = True)],\n",
    "    show_tool_calls = True,\n",
    "    markdown = True,\n",
    "    instructions = [\"use tables to display data\"],\n",
    ")\n",
    "#testing the response\\\n",
    "run: RunResponse = finance_agent.run(\"Summerize and compare analyst recommendations & fundamentals for TESLA and NVIDIA\")\n",
    "print(run.content)\n",
    "#agent.print_response(\"print a 2 sentence poem on dogs\")"
   ]
  },
  {
   "cell_type": "code",
   "execution_count": 22,
   "metadata": {},
   "outputs": [
    {
     "name": "stdout",
     "output_type": "stream",
     "text": [
      "**Summary:**\n",
      "\n",
      "Here's a summary of analyst recommendations and fundamentals for Tesla (TSLA) and NVIDIA (NVDA):\n",
      "\n",
      "**Analyst Recommendations:**\n",
      "\n",
      "* Tesla (TSLA): 45% Buy, 35% Hold, 20% Sell (based on 34 analysts)\n",
      "* NVIDIA (NVDA): 85% Buy, 12% Hold, 3% Sell (based on 39 analysts)\n",
      "\n",
      "**Fundamentals:**\n",
      "\n",
      "* Tesla (TSLA):\n",
      "\t+ Market Cap: $840B\n",
      "\t+ Revenue Growth: 56% (2022 vs 2021)\n",
      "\t+ Net Income: $12.6B (2022)\n",
      "\t+ P/E Ratio: 117\n",
      "\t+ P/S Ratio: 14.5\n",
      "* NVIDIA (NVDA):\n",
      "\t+ Market Cap: $940B\n",
      "\t+ Revenue Growth: 61% (2022 vs 2021)\n",
      "\t+ Net Income: $9.7B (2022)\n",
      "\t+ P/E Ratio: 83\n",
      "\t+ P/S Ratio: 24.5\n",
      "\n",
      "**Comparison:**\n",
      "\n",
      "Both Tesla and NVIDIA are growth stocks with strong revenue growth and high market valuations. However, there are some key differences:\n",
      "\n",
      "* **Analyst Sentiment:** NVIDIA has a more bullish analyst sentiment, with 85% of analysts recommending a Buy, compared to Tesla's 45%.\n",
      "* **Revenue Growth:** Both companies have strong revenue growth, but NVIDIA's growth rate is slightly higher.\n",
      "* **P/E Ratio:** Tesla has a higher P/E ratio, indicating that investors are willing to pay more for each dollar of earnings.\n",
      "* **P/S Ratio:** NVIDIA has a higher P/S ratio, indicating that investors are willing to pay more for each dollar of sales.\n",
      "* **Market Cap:** NVIDIA has a slightly higher market capitalization than Tesla.\n",
      "\n",
      "**Key Takeaways:**\n",
      "\n",
      "* NVIDIA appears to have stronger analyst sentiment and a slightly higher revenue growth rate.\n",
      "* Tesla has a higher P/E ratio, indicating that investors are willing to pay more for its earnings.\n",
      "* Both companies are considered growth stocks with high market valuations.\n",
      "\n",
      "**Note:** The data is subject to change and may not reflect the current market situation. It's always a good idea to do your own research and consult with a financial advisor before making investment decisions.\n"
     ]
    }
   ],
   "source": [
    "#creating the finance agent\n",
    "agent = Agent(\n",
    "    model = Groq(\n",
    "        id =\"llama-3.3-70b-versatile\"\n",
    "    ),\n",
    ")\n",
    "#testing the response\\\n",
    "run: RunResponse = agent.run(\"Summerize and compare analyst recommendations & fundamentals for TESLA and NVIDIA\")\n",
    "print(run.content)\n",
    "#agent.print_response(\"print a 2 sentence poem on dogs\")"
   ]
  },
  {
   "cell_type": "code",
   "execution_count": 23,
   "metadata": {},
   "outputs": [
    {
     "name": "stdout",
     "output_type": "stream",
     "text": [
      "\n",
      "Running:\n",
      " - duckduckgo_search(query=TESLA analyst recommendations, max_results=5)\n",
      " - duckduckgo_search(query=NVIDIA analyst recommendations, max_results=5)\n",
      " - duckduckgo_news(query=TESLA news, max_results=5)\n",
      " - duckduckgo_news(query=NVIDIA news, max_results=5)\n",
      "\n",
      "### TESLA Analyst Recommendations & Fundamentals\n",
      "Based on the search results, here are some key points about TESLA's analyst recommendations and fundamentals:\n",
      "* TESLA has a consensus rating of \"Hold\" from analysts, with a price target of $286.87.\n",
      "* Some analysts have upgraded their ratings for TESLA, while others have downgraded their ratings.\n",
      "* TESLA's stock price has been volatile, with some analysts predicting a increase in the stock price, while others predict a decrease.\n",
      "* TESLA's fundamentals are strong, with the company having a solid balance sheet and a growing revenue stream.\n",
      "* However, TESLA faces intense competition in the electric vehicle market, which could impact its future growth prospects.\n",
      "\n",
      "### NVIDIA Analyst Recommendations & Fundamentals\n",
      "Based on the search results, here are some key points about NVIDIA's analyst recommendations and fundamentals:\n",
      "* NVIDIA has a consensus rating of \"Strong Buy\" from analysts, with a price target of $167.85.\n",
      "* Some analysts have upgraded their ratings for NVIDIA, while others have downgraded their ratings.\n",
      "* NVIDIA's stock price has been volatile, with some analysts predicting a increase in the stock price, while others predict a decrease.\n",
      "* NVIDIA's fundamentals are strong, with the company having a solid balance sheet and a growing revenue stream.\n",
      "* However, NVIDIA faces intense competition in the graphics processing unit (GPU) market, which could impact its future growth prospects.\n",
      "\n",
      "### Comparison of TESLA and NVIDIA\n",
      "Based on the search results, here are some key points comparing TESLA and NVIDIA:\n",
      "* Both TESLA and NVIDIA have strong fundamentals, with solid balance sheets and growing revenue streams.\n",
      "* However, TESLA has a more volatile stock price, with some analysts predicting a increase in the stock price, while others predict a decrease.\n",
      "* NVIDIA has a higher consensus rating from analysts, with a price target of $167.85, compared to TESLA's price target of $286.87.\n",
      "* Both companies face intense competition in their respective markets, with TESLA facing competition in the electric vehicle market and NVIDIA facing competition in the GPU market.\n",
      "\n",
      "Overall, both TESLA and NVIDIA have strong fundamentals, but their stock prices have been volatile. NVIDIA has a higher consensus rating from analysts, but both companies face intense competition in their respective markets. It's important to do your own research and consider multiple sources before making any investment decisions.\n"
     ]
    }
   ],
   "source": [
    "#initializing the websearch_agent\n",
    "web_agent = Agent(\n",
    "    name = \"Web Agent\",\n",
    "    model = Groq(\n",
    "        id =\"llama-3.3-70b-versatile\"\n",
    "    ),\n",
    "    tools = [DuckDuckGo()],\n",
    "    show_tool_calls = True,\n",
    "    markdown = True,\n",
    "    instructions = [\"always include sources\"],\n",
    ")\n",
    "#testing the response\\\n",
    "run: RunResponse = web_agent.run(\"Summerize and compare analyst recommendations & fundamentals for TESLA and NVIDIA\")\n",
    "print(run.content)\n",
    "#agent.print_response(\"print a 2 sentence poem on dogs\")"
   ]
  },
  {
   "cell_type": "code",
   "execution_count": 24,
   "metadata": {},
   "outputs": [
    {
     "name": "stdout",
     "output_type": "stream",
     "text": [
      "\n",
      "Running:\n",
      " - transfer_task_to_finance_agent(task_description=Get analyst recommendations for TESLA and NVIDIA, expected_output=A table comparing analyst recommendations for TESLA and NVIDIA, additional_information=Use get_analyst_recommendations tool to get the data)\n",
      " - transfer_task_to_finance_agent(task_description=Get stock fundamentals for TESLA and NVIDIA, expected_output=A table comparing stock fundamentals for TESLA and NVIDIA, additional_information=Use get_stock_fundamentals tool to get the data)\n",
      "\n",
      "\n",
      "Running:\n",
      " - transfer_task_to_web_agent(task_description=Compare stock performance of TESLA and NVIDIA over the last year, expected_output=A line graph comparing the stock performance of TESLA and NVIDIA over the last year, additional_information=Use historical stock prices to create the graph)\n",
      "\n",
      "### Conclusion\n",
      "Based on the analyst recommendations and stock fundamentals, both TESLA and NVIDIA have strong growth potential. However, it's essential to consider the volatility of the stock market and the companies' actual financial performance before making any investment decisions.\n",
      "\n",
      "### Recommendation\n",
      "Investors should conduct their own research and consider their individual financial goals and risk tolerance before investing in either TESLA or NVIDIA. It's also important to diversify a portfolio to minimize risk.\n",
      "\n",
      "### Sources\n",
      "* [Investing.com](https://www.investing.com/)\n",
      "* [Yahoo Finance](https://finance.yahoo.com/)\n",
      "* [FinanceCharts](https://financecharts.com/)\n",
      "* [Financhill](https://financhill.com/)\n"
     ]
    }
   ],
   "source": [
    "#initializing the team agent\n",
    "agent_team = Agent(\n",
    "    team = [finance_agent, web_agent],\n",
    "    model = Groq(\n",
    "        id =\"llama-3.3-70b-versatile\"\n",
    "    ),\n",
    "    show_tool_calls = True,\n",
    "    markdown = True,\n",
    "    instructions = [\"use tables to display data\" , \"always include sources\"],\n",
    ")\n",
    "#testing the response\\\n",
    "run: RunResponse = agent_team.run(\"Summerize and compare analyst recommendations & fundamentals for TESLA and NVIDIA\")\n",
    "print(run.content)\n",
    "#agent.print_response(\"print a 2 sentence poem on dogs\")"
   ]
  },
  {
   "cell_type": "code",
   "execution_count": 27,
   "metadata": {},
   "outputs": [
    {
     "name": "stdout",
     "output_type": "stream",
     "text": [
      "\n",
      "Running:\n",
      " - transfer_task_to_finance_agent(task_description=Get analyst recommendations and fundamentals for TESLA and NVIDIA, expected_output=A table comparing analyst recommendations and fundamentals for TESLA and NVIDIA, additional_information=Use get_analyst_recommendations and get_stock_fundamentals tools to get the required data)\n",
      "\n",
      "By analyzing the provided data, we can observe the following key points:\n",
      "- **Analyst Recommendations:** TESLA has 7 strong buy, 13 buy, 15 hold, 9 sell, and 3 strong sell recommendations. In contrast, NVIDIA has 12 strong buy, 47 buy, 4 hold, and no sell or strong sell recommendations. This indicates a more positive outlook for NVIDIA among analysts.\n",
      "- **Fundamentals:** TESLA operates in the Consumer Cyclical sector with a market capitalization of approximately $1.37 trillion, a PE ratio of 130.77, and a PB ratio of 19.56. NVIDIA, on the other hand, operates in the Technology sector, specifically in Semiconductors, with a market capitalization of about $3.37 trillion, a PE ratio of 30.96, and a PB ratio of 78.96. NVIDIA's larger market capitalization and lower PE ratio might suggest it is currently undervalued compared to TESLA, considering the significant difference in their market caps and the industries they operate in.\n",
      "- **Dividend Yield and EPS:** TESLA does not offer a dividend, while NVIDIA has a minimal dividend yield of 0.0003. The EPS (Earnings Per Share) for TESLA is 3.67, slightly higher than NVIDIA's 2.53.\n",
      "- **52-Week Performance:** Both stocks have experienced significant fluctuations, with TESLA's 52-week high at $488.54 and low at $138.80, and NVIDIA's 52-week high at $153.13 and low at $58.59. These figures indicate substantial volatility in both stocks over the past year.\n",
      "\n",
      "In summary, while both TESLA and NVIDIA are prominent players in their respective industries, NVIDIA seems to have a more favorable outlook based on analyst recommendations. However, TESLA's EPS is higher, which could indicate stronger earnings performance. The choice between investing in TESLA or NVIDIA would depend on an investor's specific preferences, risk tolerance, and investment goals, considering factors such as sector growth potential, company performance, and overall market conditions.\n"
     ]
    }
   ],
   "source": [
    "def stock_input(stock1:str, stock2:str):\n",
    "    run: RunResponse = agent_team.run(f\"Summerize and compare analyst recommendations & fundamentals for {stock1} and {stock2}\")\n",
    "    print(run.content)\n",
    "\n",
    "stock_input(\"TESLA\", \"NVIDIA\")"
   ]
  }
 ],
 "metadata": {
  "kernelspec": {
   "display_name": "Python 3",
   "language": "python",
   "name": "python3"
  },
  "language_info": {
   "codemirror_mode": {
    "name": "ipython",
    "version": 3
   },
   "file_extension": ".py",
   "mimetype": "text/x-python",
   "name": "python",
   "nbconvert_exporter": "python",
   "pygments_lexer": "ipython3",
   "version": "3.12.7"
  }
 },
 "nbformat": 4,
 "nbformat_minor": 2
}
